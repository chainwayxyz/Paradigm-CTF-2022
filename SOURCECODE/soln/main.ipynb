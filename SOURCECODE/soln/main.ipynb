{
 "cells": [
  {
   "cell_type": "code",
   "execution_count": 39,
   "metadata": {},
   "outputs": [],
   "source": [
    "from web3 import Web3\n",
    "import json\n",
    "from eth_account import Account\n",
    "\n",
    "\n",
    "web3 = Web3(Web3.HTTPProvider(\"\"))\n",
    "\n",
    "private_key = \"\"\n",
    "\n",
    "\n",
    "ACC_ADDRESS = Account.from_key(private_key).address\n",
    "\n",
    "SETUP_ADDR = \"\"\n",
    "setup_contract = web3.eth.contract(\n",
    "        address=Web3.toChecksumAddress(SETUP_ADDR), abi=json.load(open(\"setup.json\", \"r\"))\n",
    "    )"
   ]
  },
  {
   "cell_type": "code",
   "execution_count": 40,
   "metadata": {},
   "outputs": [],
   "source": [
    "CHALLENGE_ADDR = setup_contract.functions.challenge().call()\n",
    "challenge_contract = web3.eth.contract(address=CHALLENGE_ADDR, abi=json.load(open(\"challenge.json\", \"r\")))"
   ]
  },
  {
   "cell_type": "code",
   "execution_count": 41,
   "metadata": {},
   "outputs": [],
   "source": [
    "nonce = web3.eth.get_transaction_count(ACC_ADDRESS)\n",
    "transaction = challenge_contract.functions.solve(\"0x7f80607f60005360015260215260416000f300000000000000000000000000000080607f60005360015260215260416000f3000000000000000000000000000000\").buildTransaction({\n",
    "    \"value\": 0,\n",
    "    'nonce': nonce,\n",
    "    'maxFeePerGas': 0,\n",
    "    'maxPriorityFeePerGas': 0,\n",
    "    'from': ACC_ADDRESS\n",
    "}\n",
    ")\n",
    "\n",
    "signed_transaction = web3.eth.account.sign_transaction(\n",
    "    transaction, private_key=private_key)\n",
    "\n",
    "res = web3.eth.send_raw_transaction(signed_transaction.rawTransaction)\n",
    "\n",
    "receipt = web3.eth.wait_for_transaction_receipt(res)"
   ]
  }
 ],
 "metadata": {
  "kernelspec": {
   "display_name": "Python 3.9.0 64-bit ('bilira-venv')",
   "language": "python",
   "name": "python3"
  },
  "language_info": {
   "codemirror_mode": {
    "name": "ipython",
    "version": 3
   },
   "file_extension": ".py",
   "mimetype": "text/x-python",
   "name": "python",
   "nbconvert_exporter": "python",
   "pygments_lexer": "ipython3",
   "version": "3.9.0"
  },
  "orig_nbformat": 4,
  "vscode": {
   "interpreter": {
    "hash": "571170744dfc1bbcd7e1bbeadd11b3f61442130db791a2abe03fbbff02b71dac"
   }
  }
 },
 "nbformat": 4,
 "nbformat_minor": 2
}
